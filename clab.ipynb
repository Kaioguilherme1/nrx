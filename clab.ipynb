{
 "cells": [
  {
   "attachments": {},
   "cell_type": "markdown",
   "id": "8faf0f4e",
   "metadata": {},
   "source": [
    "# Create Containerlab topology from CYJS graph"
   ]
  },
  {
   "attachments": {},
   "cell_type": "markdown",
   "id": "03e966c8",
   "metadata": {},
   "source": [
    "Initialize parameters   "
   ]
  },
  {
   "cell_type": "code",
   "execution_count": 276,
   "id": "e7c932b9",
   "metadata": {},
   "outputs": [],
   "source": [
    "topology_name = \"DM-Akron\""
   ]
  },
  {
   "attachments": {},
   "cell_type": "markdown",
   "id": "1c9eaf40",
   "metadata": {},
   "source": [
    "Read CYJS graph data into a dictonary and initialize networkx graph from it"
   ]
  },
  {
   "cell_type": "code",
   "execution_count": 277,
   "id": "37303650",
   "metadata": {},
   "outputs": [
    {
     "name": "stdout",
     "output_type": "stream",
     "text": [
      "{'name': 'DM-Akron'}\n"
     ]
    }
   ],
   "source": [
    "import json\n",
    "import networkx as nx\n",
    "\n",
    "cyjs = {}\n",
    "with open(topology_name + \".cyjs\", 'r', encoding='utf-8') as f:\n",
    "    cyjs = json.load(f)\n",
    "G = nx.cytoscape_graph(cyjs)\n",
    "print(G.graph)"
   ]
  },
  {
   "attachments": {},
   "cell_type": "markdown",
   "id": "2de9d144",
   "metadata": {},
   "source": [
    "Parse graph G into lists of: nodes and links. Keep a list of interfaces per device in `device_interfaces`."
   ]
  },
  {
   "cell_type": "code",
   "execution_count": 278,
   "id": "9f7b8835",
   "metadata": {},
   "outputs": [
    {
     "name": "stdout",
     "output_type": "stream",
     "text": [
      "[{'id': 1, 'type': 'device', 'name': 'dmi01-akron-rtr01', 'node_id': 0}, {'id': 14, 'type': 'device', 'name': 'dmi01-akron-sw01', 'node_id': 5}]\n",
      "{0: ['GigabitEthernet0/1/0', 'GigabitEthernet0/1/1'], 5: ['GigabitEthernet1/0/1', 'GigabitEthernet1/0/2']}\n",
      "[{'a': {'node': 'dmi01-akron-rtr01', 'node_id': 0, 'interface': 'GigabitEthernet0/1/0'}, 'b': {'node': 'dmi01-akron-sw01', 'node_id': 5, 'interface': 'GigabitEthernet1/0/1'}}, {'a': {'node': 'dmi01-akron-rtr01', 'node_id': 0, 'interface': 'GigabitEthernet0/1/1'}, 'b': {'node': 'dmi01-akron-sw01', 'node_id': 5, 'interface': 'GigabitEthernet1/0/2'}}]\n"
     ]
    }
   ],
   "source": [
    "nodes, links = [], []\n",
    "device_interfaces = {}\n",
    "for n in G.nodes:\n",
    "    if G.nodes[n]['type'] == 'device':\n",
    "        dev = G.nodes[n]['device']\n",
    "        nodes.append(dev)\n",
    "        device_interfaces[n] = []\n",
    "    elif G.nodes[n]['type'] == 'interface':\n",
    "        int_name = G.nodes[n]['interface']['name']\n",
    "        dev_name, dev_node_id = None, None\n",
    "        peer_name, peer_dev_name, peer_dev_node_id = None, None, None\n",
    "        for a_adj in G.adj[n].items():\n",
    "            if G.nodes[a_adj[0]]['type'] == 'device':\n",
    "                dev_name = G.nodes[a_adj[0]]['device']['name']\n",
    "                dev_node_id = G.nodes[a_adj[0]]['device']['node_id']\n",
    "                device_interfaces[a_adj[0]].append(int_name)\n",
    "            elif G.nodes[a_adj[0]]['type'] == 'interface' and G.nodes[n]['side'] == 'a':\n",
    "                peer_name = G.nodes[a_adj[0]]['interface']['name']\n",
    "                for b_adj in G.adj[a_adj[0]].items():\n",
    "                    if G.nodes[b_adj[0]]['type'] == 'device':\n",
    "                        peer_dev_name = G.nodes[b_adj[0]]['device']['name']\n",
    "                        peer_dev_node_id = G.nodes[b_adj[0]]['device']['node_id']\n",
    "        if G.nodes[n]['side'] == 'a':\n",
    "            links.append({\n",
    "                'a': {\n",
    "                    'node': dev_name,\n",
    "                    'node_id': dev_node_id,\n",
    "                    'interface': int_name,\n",
    "                },\n",
    "                'b': {\n",
    "                    'node': peer_dev_name,\n",
    "                    'node_id': peer_dev_node_id,\n",
    "                    'interface': peer_name,\n",
    "                },\n",
    "            })\n",
    "\n",
    "print(nodes)\n",
    "print(device_interfaces)\n",
    "print(links)"
   ]
  },
  {
   "attachments": {},
   "cell_type": "markdown",
   "id": "70dbe815",
   "metadata": {},
   "source": [
    "Create container-compatible interface names for each device. We assume interface with index `0` is reserved for management, and start with `1`"
   ]
  },
  {
   "cell_type": "code",
   "execution_count": 279,
   "id": "fdbeb44c",
   "metadata": {},
   "outputs": [
    {
     "name": "stdout",
     "output_type": "stream",
     "text": [
      "[{'a': {'node': 'dmi01-akron-rtr01', 'node_id': 0, 'interface': 'GigabitEthernet0/1/0', 'c_interface': 'eth1'}, 'b': {'node': 'dmi01-akron-sw01', 'node_id': 5, 'interface': 'GigabitEthernet1/0/1', 'c_interface': 'eth1'}}, {'a': {'node': 'dmi01-akron-rtr01', 'node_id': 0, 'interface': 'GigabitEthernet0/1/1', 'c_interface': 'eth2'}, 'b': {'node': 'dmi01-akron-sw01', 'node_id': 5, 'interface': 'GigabitEthernet1/0/2', 'c_interface': 'eth2'}}]\n"
     ]
    }
   ],
   "source": [
    "c_device_interfaces = {}\n",
    "for node_id, interfaces in device_interfaces.items():\n",
    "    interfaces.sort()\n",
    "    c_device_interfaces[node_id] = [f\"eth{interfaces.index(i)+1}\" for i in interfaces]\n",
    "\n",
    "for l in links:\n",
    "    a_idx = device_interfaces[l['a']['node_id']].index(l['a']['interface'])\n",
    "    b_idx = device_interfaces[l['b']['node_id']].index(l['b']['interface'])\n",
    "    l['a']['c_interface'] = c_device_interfaces[l['a']['node_id']][a_idx]\n",
    "    l['b']['c_interface'] = c_device_interfaces[l['b']['node_id']][b_idx]\n",
    "\n",
    "print(links)"
   ]
  },
  {
   "attachments": {},
   "cell_type": "markdown",
   "id": "09e8a198",
   "metadata": {},
   "source": [
    "Generate clab topology. Using this gist as inspiration https://gist.github.com/renatoalmeidaoliveira/fdb772a5a02f3cfc0b5fbe7e8b7586a2"
   ]
  },
  {
   "cell_type": "code",
   "execution_count": 280,
   "id": "ffa72824",
   "metadata": {},
   "outputs": [
    {
     "name": "stdout",
     "output_type": "stream",
     "text": [
      "{\n",
      "    \"name\": \"DM-Akron\",\n",
      "    \"nodes\": [\n",
      "        \"dmi01-akron-rtr01\",\n",
      "        \"dmi01-akron-sw01\"\n",
      "    ],\n",
      "    \"links\": [\n",
      "        \"[\\\"dmi01-akron-rtr01:eth1\\\", \\\"dmi01-akron-sw01:eth1\\\"]\",\n",
      "        \"[\\\"dmi01-akron-rtr01:eth2\\\", \\\"dmi01-akron-sw01:eth2\\\"]\"\n",
      "    ]\n",
      "}\n"
     ]
    }
   ],
   "source": [
    "topology = {\n",
    "    'name': G.name,\n",
    "    'nodes': [f\"{n['name']}\" for n in nodes],\n",
    "    'links': [f\"[\\\"{l['a']['node']}:{l['a']['c_interface']}\\\", \\\"{l['b']['node']}:{l['b']['c_interface']}\\\"]\" for l in links],\n",
    "}\n",
    "\n",
    "print(json.dumps(topology, indent=4))"
   ]
  },
  {
   "attachments": {},
   "cell_type": "markdown",
   "id": "074a56a5",
   "metadata": {},
   "source": [
    "Load Jinja2 template for Containerlab to run the topology through"
   ]
  },
  {
   "cell_type": "code",
   "execution_count": 281,
   "id": "4c9c5d6b",
   "metadata": {},
   "outputs": [],
   "source": [
    "from jinja2 import Environment, FileSystemLoader\n",
    "env = Environment(\n",
    "            loader=FileSystemLoader(f\".\"),\n",
    "            line_statement_prefix='#'\n",
    "        )\n",
    "templ = env.get_template(f\"clab.j2\")"
   ]
  },
  {
   "attachments": {},
   "cell_type": "markdown",
   "id": "d6cf8d93",
   "metadata": {},
   "source": [
    "Run the topology through jinja2 template to get the final result"
   ]
  },
  {
   "cell_type": "code",
   "execution_count": 282,
   "id": "19a9bf4d",
   "metadata": {},
   "outputs": [
    {
     "name": "stdout",
     "output_type": "stream",
     "text": [
      "name: DM-Akron\n",
      "topology:\n",
      "    nodes:\n",
      "        dmi01-akron-rtr01:\n",
      "            kind: ceos\n",
      "            image: ceos\n",
      "        dmi01-akron-sw01:\n",
      "            kind: ceos\n",
      "            image: ceos\n",
      "    links:\n",
      "        - endpoints: [\"dmi01-akron-rtr01:eth1\", \"dmi01-akron-sw01:eth1\"]\n",
      "        - endpoints: [\"dmi01-akron-rtr01:eth2\", \"dmi01-akron-sw01:eth2\"]\n",
      "\n"
     ]
    }
   ],
   "source": [
    "config = templ.render(topology)\n",
    "print(config)"
   ]
  }
 ],
 "metadata": {
  "kernelspec": {
   "display_name": "ntopex-jup39",
   "language": "python",
   "name": "python3"
  },
  "language_info": {
   "codemirror_mode": {
    "name": "ipython",
    "version": 3
   },
   "file_extension": ".py",
   "mimetype": "text/x-python",
   "name": "python",
   "nbconvert_exporter": "python",
   "pygments_lexer": "ipython3",
   "version": "3.9.16"
  },
  "vscode": {
   "interpreter": {
    "hash": "568b08ca310b1b904f83b2ecd4409024a56cc9b7c274a5491afb76ab6ca4db38"
   }
  }
 },
 "nbformat": 4,
 "nbformat_minor": 5
}
