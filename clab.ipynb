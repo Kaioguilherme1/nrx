{
 "cells": [
  {
   "attachments": {},
   "cell_type": "markdown",
   "id": "8faf0f4e",
   "metadata": {},
   "source": [
    "# Create Containerlab topology from CYJS graph"
   ]
  },
  {
   "attachments": {},
   "cell_type": "markdown",
   "id": "03e966c8",
   "metadata": {},
   "source": [
    "Initialize parameters   "
   ]
  },
  {
   "cell_type": "code",
   "execution_count": 140,
   "id": "e7c932b9",
   "metadata": {},
   "outputs": [],
   "source": [
    "topology_name = \"DM-Akron\""
   ]
  },
  {
   "attachments": {},
   "cell_type": "markdown",
   "id": "1c9eaf40",
   "metadata": {},
   "source": [
    "Read CYJS graph data into a dictonary and initialize networkx graph from it"
   ]
  },
  {
   "cell_type": "code",
   "execution_count": 141,
   "id": "37303650",
   "metadata": {},
   "outputs": [
    {
     "name": "stdout",
     "output_type": "stream",
     "text": [
      "{'name': 'DM-Akron'}\n"
     ]
    }
   ],
   "source": [
    "import json\n",
    "import networkx as nx\n",
    "\n",
    "cyjs = {}\n",
    "with open(topology_name + \".cyjs\", 'r', encoding='utf-8') as f:\n",
    "    cyjs = json.load(f)\n",
    "G = nx.cytoscape_graph(cyjs)\n",
    "print(G.graph)"
   ]
  },
  {
   "attachments": {},
   "cell_type": "markdown",
   "id": "2de9d144",
   "metadata": {},
   "source": [
    "Generate clab topology from the graph G. Using this gist as inspiration https://gist.github.com/renatoalmeidaoliveira/fdb772a5a02f3cfc0b5fbe7e8b7586a2"
   ]
  },
  {
   "cell_type": "code",
   "execution_count": 142,
   "id": "9f7b8835",
   "metadata": {},
   "outputs": [
    {
     "name": "stdout",
     "output_type": "stream",
     "text": [
      "{\n",
      "    \"name\": \"DM-Akron\",\n",
      "    \"nodes\": [\n",
      "        \"dmi01-akron-rtr01\",\n",
      "        \"dmi01-akron-sw01\"\n",
      "    ],\n",
      "    \"links\": [\n",
      "        \"[\\\"dmi01-akron-rtr01:GigabitEthernet0/1/0\\\", \\\"dmi01-akron-sw01:GigabitEthernet1/0/1\\\"]\",\n",
      "        \"[\\\"dmi01-akron-rtr01:GigabitEthernet0/1/1\\\", \\\"dmi01-akron-sw01:GigabitEthernet1/0/2\\\"]\"\n",
      "    ]\n",
      "}\n"
     ]
    }
   ],
   "source": [
    "clab_nodes, clab_interfaces, clab_links = [], [], []\n",
    "for n in G.nodes:\n",
    "    if G.nodes[n]['type'] == 'device':\n",
    "        clab_nodes.append(G.nodes[n]['device'])\n",
    "    elif G.nodes[n]['type'] == 'interface' and G.nodes[n]['side'] == 'a':\n",
    "        clab_interfaces.append(G.nodes[n]['interface'])\n",
    "        int_name = G.nodes[n]['interface']['name']\n",
    "        dev_name = None\n",
    "        peer_name, peer_dev_name = None, None\n",
    "        for a_adj in G.adj[n].items():\n",
    "            if G.nodes[a_adj[0]]['type'] == 'device':\n",
    "                dev_name = G.nodes[a_adj[0]]['device']['name']\n",
    "            elif G.nodes[a_adj[0]]['type'] == 'interface':\n",
    "                peer_name = G.nodes[a_adj[0]]['interface']['name']\n",
    "                for b_adj in G.adj[a_adj[0]].items():\n",
    "                    if G.nodes[b_adj[0]]['type'] == 'device':\n",
    "                        peer_dev_name = G.nodes[b_adj[0]]['device']['name']\n",
    "        clab_links.append([f\"{dev_name}:{int_name}\", f\"{peer_dev_name}:{peer_name}\"])\n",
    "\n",
    "#print(clab_nodes)\n",
    "#print(clab_interfaces)\n",
    "#print(clab_links)\n",
    "\n",
    "topology = {\n",
    "    'name': G.name,\n",
    "    'nodes': [f\"{n['name']}\" for n in clab_nodes],\n",
    "    'links': [f'[\"{l[0]}\", \"{l[1]}\"]' for l in clab_links],\n",
    "}\n",
    "\n",
    "print(json.dumps(topology, indent=4))"
   ]
  },
  {
   "attachments": {},
   "cell_type": "markdown",
   "id": "074a56a5",
   "metadata": {},
   "source": [
    "Load Jinja2 template for Containerlab to run the topology through"
   ]
  },
  {
   "cell_type": "code",
   "execution_count": 143,
   "id": "4c9c5d6b",
   "metadata": {},
   "outputs": [],
   "source": [
    "from jinja2 import Environment, FileSystemLoader\n",
    "env = Environment(\n",
    "            loader=FileSystemLoader(f\".\"),\n",
    "            line_statement_prefix='#'\n",
    "        )\n",
    "templ = env.get_template(f\"clab.j2\")"
   ]
  },
  {
   "attachments": {},
   "cell_type": "markdown",
   "id": "d6cf8d93",
   "metadata": {},
   "source": [
    "Run the topology through jinja2 template to get the final result"
   ]
  },
  {
   "cell_type": "code",
   "execution_count": 144,
   "id": "19a9bf4d",
   "metadata": {},
   "outputs": [
    {
     "name": "stdout",
     "output_type": "stream",
     "text": [
      "name: DM-Akron\n",
      "topology:\n",
      "    nodes:\n",
      "        dmi01-akron-rtr01:\n",
      "            kind: ceos\n",
      "            image: ceos\n",
      "        dmi01-akron-sw01:\n",
      "            kind: ceos\n",
      "            image: ceos\n",
      "    links:\n",
      "        - endpoints: [\"dmi01-akron-rtr01:GigabitEthernet0/1/0\", \"dmi01-akron-sw01:GigabitEthernet1/0/1\"]\n",
      "        - endpoints: [\"dmi01-akron-rtr01:GigabitEthernet0/1/1\", \"dmi01-akron-sw01:GigabitEthernet1/0/2\"]\n",
      "\n"
     ]
    }
   ],
   "source": [
    "config = templ.render(topology)\n",
    "print(config)"
   ]
  }
 ],
 "metadata": {
  "kernelspec": {
   "display_name": "ntopex-jup39",
   "language": "python",
   "name": "python3"
  },
  "language_info": {
   "codemirror_mode": {
    "name": "ipython",
    "version": 3
   },
   "file_extension": ".py",
   "mimetype": "text/x-python",
   "name": "python",
   "nbconvert_exporter": "python",
   "pygments_lexer": "ipython3",
   "version": "3.9.16"
  },
  "vscode": {
   "interpreter": {
    "hash": "568b08ca310b1b904f83b2ecd4409024a56cc9b7c274a5491afb76ab6ca4db38"
   }
  }
 },
 "nbformat": 4,
 "nbformat_minor": 5
}
