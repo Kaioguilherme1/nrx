{
 "cells": [
  {
   "cell_type": "markdown",
   "id": "1421b146",
   "metadata": {},
   "source": [
    "# NetBox Topology Exporter PoC"
   ]
  },
  {
   "cell_type": "code",
   "execution_count": null,
   "id": "de369888",
   "metadata": {},
   "outputs": [],
   "source": [
    "import pynetbox\n",
    "nb = pynetbox.api(\n",
    "    'https://demo.netbox.dev',\n",
    "    token='ee24356e2f5c827df7cfd4ee9871801540604f0c',\n",
    "    threading=True,\n",
    ")"
   ]
  },
  {
   "cell_type": "code",
   "execution_count": null,
   "id": "3828a670",
   "metadata": {},
   "outputs": [],
   "source": [
    "s = nb.dcim.sites.get(name=\"DM-Akron\")\n",
    "print(s.id)"
   ]
  },
  {
   "cell_type": "code",
   "execution_count": null,
   "id": "753662ce",
   "metadata": {},
   "outputs": [],
   "source": [
    "devices = list(nb.dcim.devices.filter(site_id=s.id,role=[\"router\", \"access-switch\", \"distribution-switch\", \"tor-switch\"]))\n",
    "for device in devices:\n",
    "    print(device)"
   ]
  }
 ],
 "metadata": {
  "kernelspec": {
   "display_name": "Python 3 (ipykernel)",
   "language": "python",
   "name": "python3"
  },
  "language_info": {
   "codemirror_mode": {
    "name": "ipython",
    "version": 3
   },
   "file_extension": ".py",
   "mimetype": "text/x-python",
   "name": "python",
   "nbconvert_exporter": "python",
   "pygments_lexer": "ipython3",
   "version": "3.9.16"
  },
  "vscode": {
   "interpreter": {
    "hash": "568b08ca310b1b904f83b2ecd4409024a56cc9b7c274a5491afb76ab6ca4db38"
   }
  }
 },
 "nbformat": 4,
 "nbformat_minor": 5
}
