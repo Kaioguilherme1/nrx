{
 "cells": [
  {
   "cell_type": "markdown",
   "id": "1421b146",
   "metadata": {},
   "source": [
    "# NetBox Topology Exporter PoC"
   ]
  },
  {
   "attachments": {},
   "cell_type": "markdown",
   "id": "20a59c26",
   "metadata": {},
   "source": [
    "Initialize parameters"
   ]
  },
  {
   "cell_type": "code",
   "execution_count": 167,
   "id": "de369888",
   "metadata": {},
   "outputs": [],
   "source": [
    "export_site = \"DM-Akron\"\n",
    "nb_api_url = 'https://demo.netbox.dev'\n",
    "nb_api_token = '2155d93c365789cf63577f47b5ebe350be61d4c3'\n",
    "export_device_roles = [\"router\", \"access-switch\", \"distribution-switch\", \"tor-switch\"]"
   ]
  },
  {
   "attachments": {},
   "cell_type": "markdown",
   "id": "97f09402",
   "metadata": {},
   "source": [
    "Initialize Netbox API client"
   ]
  },
  {
   "cell_type": "code",
   "execution_count": 168,
   "id": "0e40cfce",
   "metadata": {},
   "outputs": [],
   "source": [
    "import pynetbox\n",
    "nb = pynetbox.api(\n",
    "    nb_api_url,\n",
    "    token=nb_api_token,\n",
    "    threading=True,\n",
    ")"
   ]
  },
  {
   "attachments": {},
   "cell_type": "markdown",
   "id": "35826a32",
   "metadata": {},
   "source": [
    "Create a `devices` list of Devices for the site. Each Device is stored in the list as a dictionary:\n",
    "\n",
    "```\n",
    "{\n",
    "    \"id\": device.id,\n",
    "    \"type\": \"device\",\n",
    "    \"name\": device.name,\n",
    "    \"node_id\": <index of this device object in the nodes list>,\n",
    "}\n",
    "```\n",
    "\n",
    "Create an `interfaces` list of Interfaces for the Devices selected above, which have Ethernet connections via Cables. Each Interface is stored in the list as a dictionary:\n",
    "\n",
    "```\n",
    "{\n",
    "    \"id\": interface.id,\n",
    "    \"type\": \"interface\",\n",
    "    \"name\": interface.name,\n",
    "    \"node_id\": <index of this interface object in the nodes list>,\n",
    "}\n",
    "```\n",
    "\n",
    "Both Device and Interface dictionary objects are also stored in a common `nodes` list, to create unique IDs to be later used when creating a graph object with them as nodes.\n",
    "\n",
    "Also, for quick indexing, create separate lists of Device, Interface and Cable IDs."
   ]
  },
  {
   "cell_type": "code",
   "execution_count": 169,
   "id": "753662ce",
   "metadata": {},
   "outputs": [
    {
     "name": "stdout",
     "output_type": "stream",
     "text": [
      "dmi01-akron-rtr01 : GigabitEthernet0/0/0 : 1000base-x-sfp\n",
      "dmi01-akron-rtr01 : GigabitEthernet0/0/1 : 1000base-t\n",
      "dmi01-akron-rtr01 : GigabitEthernet0/1/0 : 1000base-t\n",
      "dmi01-akron-rtr01 : GigabitEthernet0/1/1 : 1000base-t\n",
      "dmi01-akron-sw01 : GigabitEthernet1/0/1 : 1000base-t\n",
      "dmi01-akron-sw01 : GigabitEthernet1/0/2 : 1000base-t\n"
     ]
    }
   ],
   "source": [
    "s = nb.dcim.sites.get(name=export_site)\n",
    "nodes, devices, interfaces = [], [], []\n",
    "device_ids, interface_ids, cable_ids = [], [], []\n",
    "for device in list(nb.dcim.devices.filter(site_id=s.id,role=export_device_roles)):\n",
    "    d = {\n",
    "        \"id\": device.id,\n",
    "        \"type\": \"device\",\n",
    "        \"name\": device.name,\n",
    "        \"node_id\": -1,\n",
    "    }\n",
    "    nodes.append(d)\n",
    "    d[\"node_id\"] = len(nodes) - 1\n",
    "    devices.append(d)\n",
    "    device_ids.append(device.id) # index of the device in the devices list will match its ID index in device_ids list\n",
    "    for interface in list(nb.dcim.interfaces.filter(device_id=device.id)):\n",
    "        if \"base\" in interface.type.value and interface.cable: # only connected ethernet interfaces\n",
    "            print(device.name, \":\", interface, \":\", interface.type.value)\n",
    "            i = {\n",
    "                \"id\": interface.id,\n",
    "                \"type\": \"interface\",\n",
    "                \"name\": interface.name,\n",
    "                \"node_id\": -1,\n",
    "            }\n",
    "            nodes.append(i)\n",
    "            i[\"node_id\"] = len(nodes) - 1\n",
    "            interfaces.append(i)\n",
    "            interface_ids.append(interface.id) # index of the interface in the interfaces list will match its ID index in interface_ids list\n",
    "            cable_ids.append(interface.cable.id)"
   ]
  },
  {
   "attachments": {},
   "cell_type": "markdown",
   "id": "d7f92b7b",
   "metadata": {},
   "source": [
    "Filter Cables list to only those that are interconnecting Devices. Leave Circuits out.\n",
    "\n",
    "Create a Graph object representing ownership of Interfaces by Devices, and interconnections between Interfaces."
   ]
  },
  {
   "cell_type": "code",
   "execution_count": 170,
   "id": "5ce19424",
   "metadata": {},
   "outputs": [
    {
     "name": "stdout",
     "output_type": "stream",
     "text": [
      "dmi01-akron-rtr01:GigabitEthernet0/1/0 <> dmi01-akron-sw01:GigabitEthernet1/0/1\n",
      "dmi01-akron-rtr01:GigabitEthernet0/1/1 <> dmi01-akron-sw01:GigabitEthernet1/0/2\n",
      "Graph with 6 nodes and 6 edges\n"
     ]
    }
   ],
   "source": [
    "import networkx as nx\n",
    "G = nx.Graph()\n",
    "N = nx.Graph() # graph with names as IDs for quick visual validation only\n",
    "\n",
    "for cable in list(nb.dcim.cables.filter(id=cable_ids)):\n",
    "    if len(cable.a_terminations) == 1 and len(cable.b_terminations) == 1:\n",
    "        int_a = cable.a_terminations[0]\n",
    "        int_b = cable.b_terminations[0]\n",
    "        if isinstance(int_a, pynetbox.models.dcim.Interfaces) and isinstance(int_b, pynetbox.models.dcim.Interfaces):\n",
    "            print(\"{}:{} <> {}:{}\".format(int_a.device,int_a,int_b.device,int_b))\n",
    "            d_a = devices[device_ids.index(int_a.device.id)]\n",
    "            d_b = devices[device_ids.index(int_b.device.id)]\n",
    "            G.add_nodes_from([\n",
    "                (d_a[\"node_id\"], {\"side\": \"a\", \"type\": \"device\", \"device\": d_a}),\n",
    "                (d_b[\"node_id\"], {\"side\": \"b\", \"type\": \"device\", \"device\": d_b}),\n",
    "            ])\n",
    "            N.add_nodes_from([\n",
    "                (d_a[\"name\"], {\"side\": \"a\", \"type\": \"device\", \"device\": d_a}),\n",
    "                (d_b[\"name\"], {\"side\": \"b\", \"type\": \"device\", \"device\": d_b}),\n",
    "            ])\n",
    "            i_a = interfaces[interface_ids.index(int_a.id)]\n",
    "            i_b = interfaces[interface_ids.index(int_b.id)]\n",
    "            G.add_nodes_from([\n",
    "                (i_a[\"node_id\"], {\"side\": \"a\", \"type\": \"interface\", \"interface\": i_a}),\n",
    "                (i_b[\"node_id\"], {\"side\": \"b\", \"type\": \"interface\", \"interface\": i_b}),\n",
    "            ])\n",
    "            N.add_nodes_from([\n",
    "                (i_a[\"name\"], {\"side\": \"a\", \"type\": \"interface\", \"interface\": i_a}),\n",
    "                (i_b[\"name\"], {\"side\": \"b\", \"type\": \"interface\", \"interface\": i_b}),\n",
    "            ])\n",
    "            G.add_edges_from([\n",
    "                (d_a[\"node_id\"], i_a[\"node_id\"]),\n",
    "                (d_b[\"node_id\"], i_b[\"node_id\"]),\n",
    "            ])\n",
    "            N.add_edges_from([\n",
    "                (d_a[\"name\"], i_a[\"name\"]),\n",
    "                (d_b[\"name\"], i_b[\"name\"]),\n",
    "            ])\n",
    "            G.add_edges_from([\n",
    "                (i_a[\"node_id\"], i_b[\"node_id\"]),\n",
    "            ])\n",
    "            N.add_edges_from([\n",
    "                (i_a[\"name\"], i_b[\"name\"]),\n",
    "            ])\n",
    "print(G)"
   ]
  },
  {
   "attachments": {},
   "cell_type": "markdown",
   "id": "efe83b95",
   "metadata": {},
   "source": [
    "Visualize the graphs for quick validation"
   ]
  },
  {
   "cell_type": "code",
   "execution_count": 171,
   "id": "d0c55882",
   "metadata": {},
   "outputs": [
    {
     "data": {
      "image/png": "[encoded data removed]",
      "text/plain": [
       "<Figure size 640x480 with 2 Axes>"
      ]
     },
     "metadata": {},
     "output_type": "display_data"
    }
   ],
   "source": [
    "import matplotlib.pyplot as plt\n",
    "subax1 = plt.subplot(121)\n",
    "nx.draw(G, with_labels=True, font_weight='bold')\n",
    "subax1 = plt.subplot(122)\n",
    "nx.draw(N, with_labels=True, font_size='6')"
   ]
  }
 ],
 "metadata": {
  "kernelspec": {
   "display_name": "Python 3 (ipykernel)",
   "language": "python",
   "name": "python3"
  },
  "language_info": {
   "codemirror_mode": {
    "name": "ipython",
    "version": 3
   },
   "file_extension": ".py",
   "mimetype": "text/x-python",
   "name": "python",
   "nbconvert_exporter": "python",
   "pygments_lexer": "ipython3",
   "version": "3.9.16"
  },
  "vscode": {
   "interpreter": {
    "hash": "568b08ca310b1b904f83b2ecd4409024a56cc9b7c274a5491afb76ab6ca4db38"
   }
  }
 },
 "nbformat": 4,
 "nbformat_minor": 5
}
